{
  "cells": [
    {
      "cell_type": "code",
      "execution_count": 3,
      "metadata": {
        "id": "bPKMZEAKfb23"
      },
      "outputs": [],
      "source": [
        "import pandas as pd\n",
        "import numpy as np\n",
        "import matplotlib.pyplot as plt\n"
      ]
    },
    {
      "cell_type": "code",
      "execution_count": 4,
      "metadata": {
        "id": "AcqtB_lTmQHD"
      },
      "outputs": [],
      "source": [
        "df = pd.read_csv(\"perceptron_toydata-truncated.txt\",sep = \"\\t\")"
      ]
    },
    {
      "cell_type": "code",
      "execution_count": 5,
      "metadata": {
        "colab": {
          "base_uri": "https://localhost:8080/",
          "height": 206
        },
        "id": "4ZBVF58emV6R",
        "outputId": "4efe1984-2a7c-43ef-c653-9a4355461f01"
      },
      "outputs": [
        {
          "data": {
            "text/html": [
              "<div>\n",
              "<style scoped>\n",
              "    .dataframe tbody tr th:only-of-type {\n",
              "        vertical-align: middle;\n",
              "    }\n",
              "\n",
              "    .dataframe tbody tr th {\n",
              "        vertical-align: top;\n",
              "    }\n",
              "\n",
              "    .dataframe thead th {\n",
              "        text-align: right;\n",
              "    }\n",
              "</style>\n",
              "<table border=\"1\" class=\"dataframe\">\n",
              "  <thead>\n",
              "    <tr style=\"text-align: right;\">\n",
              "      <th></th>\n",
              "      <th>x1</th>\n",
              "      <th>x2</th>\n",
              "      <th>label</th>\n",
              "    </tr>\n",
              "  </thead>\n",
              "  <tbody>\n",
              "    <tr>\n",
              "      <th>0</th>\n",
              "      <td>0.77</td>\n",
              "      <td>-1.14</td>\n",
              "      <td>0</td>\n",
              "    </tr>\n",
              "    <tr>\n",
              "      <th>1</th>\n",
              "      <td>-0.33</td>\n",
              "      <td>1.44</td>\n",
              "      <td>0</td>\n",
              "    </tr>\n",
              "    <tr>\n",
              "      <th>2</th>\n",
              "      <td>0.91</td>\n",
              "      <td>-3.07</td>\n",
              "      <td>0</td>\n",
              "    </tr>\n",
              "    <tr>\n",
              "      <th>3</th>\n",
              "      <td>-0.37</td>\n",
              "      <td>-1.91</td>\n",
              "      <td>0</td>\n",
              "    </tr>\n",
              "    <tr>\n",
              "      <th>4</th>\n",
              "      <td>-0.63</td>\n",
              "      <td>-1.53</td>\n",
              "      <td>0</td>\n",
              "    </tr>\n",
              "  </tbody>\n",
              "</table>\n",
              "</div>"
            ],
            "text/plain": [
              "     x1    x2  label\n",
              "0  0.77 -1.14      0\n",
              "1 -0.33  1.44      0\n",
              "2  0.91 -3.07      0\n",
              "3 -0.37 -1.91      0\n",
              "4 -0.63 -1.53      0"
            ]
          },
          "execution_count": 5,
          "metadata": {},
          "output_type": "execute_result"
        }
      ],
      "source": [
        "df.head()"
      ]
    },
    {
      "cell_type": "code",
      "execution_count": 6,
      "metadata": {
        "id": "ZJLjzBOWmWSJ"
      },
      "outputs": [],
      "source": [
        "X_train = df[[\"x1\", \"x2\"]].values\n",
        "y_train = df[\"label\"].values"
      ]
    },
    {
      "cell_type": "code",
      "execution_count": 7,
      "metadata": {
        "colab": {
          "base_uri": "https://localhost:8080/"
        },
        "id": "yLGJuUEomqnS",
        "outputId": "28d7cf74-4ba7-48bd-c907-6f0d72d44e41"
      },
      "outputs": [
        {
          "data": {
            "text/plain": [
              "0.77"
            ]
          },
          "execution_count": 7,
          "metadata": {},
          "output_type": "execute_result"
        }
      ],
      "source": [
        "X_train[0][0]"
      ]
    },
    {
      "cell_type": "code",
      "execution_count": 8,
      "metadata": {
        "colab": {
          "base_uri": "https://localhost:8080/"
        },
        "id": "nJA-_3nimr8a",
        "outputId": "0353d8e4-012c-45f1-db47-50bb3f964601"
      },
      "outputs": [
        {
          "data": {
            "text/plain": [
              "array([0, 0, 0, 0, 0, 0, 0, 0, 0, 0, 1, 1, 1, 1, 1, 1, 1, 1, 1, 1],\n",
              "      dtype=int64)"
            ]
          },
          "execution_count": 8,
          "metadata": {},
          "output_type": "execute_result"
        }
      ],
      "source": [
        "y_train"
      ]
    },
    {
      "cell_type": "code",
      "execution_count": 9,
      "metadata": {
        "colab": {
          "base_uri": "https://localhost:8080/"
        },
        "id": "mJ88PRLNm5yK",
        "outputId": "f8f51114-a655-4e2d-c33e-bc33ebac0771"
      },
      "outputs": [
        {
          "data": {
            "text/plain": [
              "array([10, 10], dtype=int64)"
            ]
          },
          "execution_count": 9,
          "metadata": {},
          "output_type": "execute_result"
        }
      ],
      "source": [
        "## to show no of binary class it has\n",
        "\n",
        "np.bincount(y_train)"
      ]
    },
    {
      "cell_type": "code",
      "execution_count": 10,
      "metadata": {
        "colab": {
          "base_uri": "https://localhost:8080/",
          "height": 455
        },
        "id": "mTHS1CNunBXK",
        "outputId": "578a577b-8e00-4f8f-b35f-8b1a8f0b68b8"
      },
      "outputs": [
        {
          "data": {
            "image/png": "[encoded data removed]",
            "text/plain": [
              "<Figure size 432x288 with 1 Axes>"
            ]
          },
          "metadata": {
            "needs_background": "light"
          },
          "output_type": "display_data"
        }
      ],
      "source": [
        "plt.plot(\n",
        "    X_train[y_train == 0, 0],\n",
        "    X_train[y_train == 0, 1],\n",
        "    marker=\"D\",\n",
        "    markersize=10,\n",
        "    linestyle=\"\",\n",
        "    label=\"Class 0\",\n",
        ")\n",
        "\n",
        "plt.plot(\n",
        "    X_train[y_train == 1, 0],\n",
        "    X_train[y_train == 1, 1],\n",
        "    marker=\"^\",\n",
        "    markersize=13,\n",
        "    linestyle=\"\",\n",
        "    label=\"Class 1\",\n",
        ")\n",
        "\n",
        "plt.legend(loc=2)\n",
        "\n",
        "plt.xlim([-5, 5])\n",
        "plt.ylim([-5, 5])\n",
        "\n",
        "plt.xlabel(\"Feature $x_1$\", fontsize=12)\n",
        "plt.ylabel(\"Feature $x_2$\", fontsize=12)\n",
        "\n",
        "plt.grid()\n",
        "plt.show()"
      ]
    },
    {
      "cell_type": "code",
      "execution_count": 11,
      "metadata": {},
      "outputs": [],
      "source": [
        "# !pip install torch"
      ]
    },
    {
      "cell_type": "code",
      "execution_count": 12,
      "metadata": {},
      "outputs": [
        {
          "data": {
            "text/plain": [
              "tensor([[ 0.5058, -1.0133],\n",
              "        [-1.5972, -0.6483],\n",
              "        [ 0.6689, -0.7682]])"
            ]
          },
          "execution_count": 12,
          "metadata": {},
          "output_type": "execute_result"
        }
      ],
      "source": [
        "import torch\n",
        "torch.randn(3,2)"
      ]
    },
    {
      "attachments": {},
      "cell_type": "markdown",
      "metadata": {
        "id": "IAEle0UCoIa8"
      },
      "source": [
        "## Implementing perceptron"
      ]
    },
    {
      "cell_type": "code",
      "execution_count": 22,
      "metadata": {
        "id": "MMurtV9soE_T"
      },
      "outputs": [],
      "source": [
        "class perceptron:\n",
        "\n",
        "    # initialization is done\n",
        "    ## and I thing that you will also be doing your leetcode and striver coding in this PC only. That would be nice, come here at fucking 7.30 am, and tell the worl\n",
        "\n",
        "    def __init__(self,num_features):\n",
        "        self.num_features = num_features\n",
        "        self.weights = [0.0 for i in range(num_features)]\n",
        "        self.bias = 0.0\n",
        "\n",
        "    def forward(self, x):\n",
        "        \n",
        "        x = torch.tensor(x,dtype = torch.float32)\n",
        "        self.weights = torch.tensor(self.weights,dtype = torch.float32)\n",
        "        # weighted_sum_z = torch.dot(x, self.weights) + self.bias\n",
        "        # using the .matmul function\n",
        "        weighted_sum_z = torch.matmul(x,self.weights) + self.bias\n",
        "\n",
        "        predictions = torch.where(weighted_sum_z>0,1.0,0.0)\n",
        "\n",
        "        return predictions\n",
        "\n",
        "    def update(self,x,y_true,lr):\n",
        "        y_pred = self.forward(x)\n",
        "        error = y_true - y_pred\n",
        "\n",
        "        for i,_ in enumerate(self.weights):\n",
        "            self.weights[i]+= lr *error * x[i]\n",
        "\n",
        "        return error\n",
        "\n"
      ]
    },
    {
      "cell_type": "code",
      "execution_count": 23,
      "metadata": {
        "id": "aURVJ-8RuMr6"
      },
      "outputs": [],
      "source": [
        "# training the model\n",
        "\n",
        "def train(model,all_x, all_y, epochs):\n",
        "    error_list = []\n",
        "    for epoch in range(epochs):\n",
        "        error_count = 0\n",
        "\n",
        "        for x , y in zip(all_x,all_y):\n",
        "            error = model.update(x,y,0.1)\n",
        "            error_count+=abs(error)\n",
        "\n",
        "        error_list.append(error_count)\n",
        "\n",
        "        print(f\"ephohs {epoch + 1}, training error {error_count}\")\n",
        "\n",
        "    plt.bar(np.arange(1,epochs+1),error_list)\n",
        "    plt.show()"
      ]
    },
    {
      "cell_type": "code",
      "execution_count": 24,
      "metadata": {
        "colab": {
          "base_uri": "https://localhost:8080/",
          "height": 604
        },
        "id": "-gY36d2Ozldb",
        "outputId": "7efb0440-b0a3-4687-dc2c-9936c29ee0e0"
      },
      "outputs": [
        {
          "name": "stdout",
          "output_type": "stream",
          "text": [
            "ephohs 1, training error 1.0\n",
            "ephohs 2, training error 3.0\n",
            "ephohs 3, training error 1.0\n",
            "ephohs 4, training error 2.0\n",
            "ephohs 5, training error 1.0\n",
            "ephohs 6, training error 2.0\n",
            "ephohs 7, training error 1.0\n",
            "ephohs 8, training error 1.0\n",
            "ephohs 9, training error 3.0\n",
            "ephohs 10, training error 1.0\n",
            "ephohs 11, training error 1.0\n",
            "ephohs 12, training error 2.0\n",
            "ephohs 13, training error 3.0\n",
            "ephohs 14, training error 1.0\n",
            "ephohs 15, training error 1.0\n"
          ]
        },
        {
          "name": "stderr",
          "output_type": "stream",
          "text": [
            "C:\\Users\\Admin\\AppData\\Roaming\\Python\\Python37\\site-packages\\ipykernel_launcher.py:14: UserWarning: To copy construct from a tensor, it is recommended to use sourceTensor.clone().detach() or sourceTensor.clone().detach().requires_grad_(True), rather than torch.tensor(sourceTensor).\n",
            "  \n"
          ]
        },
        {
          "data": {
            "image/png": "[encoded data removed]",
            "text/plain": [
              "<Figure size 432x288 with 1 Axes>"
            ]
          },
          "metadata": {
            "needs_background": "light"
          },
          "output_type": "display_data"
        }
      ],
      "source": [
        "ppn = perceptron(num_features=2)\n",
        "\n",
        "train(ppn,all_x = X_train,all_y = y_train, epochs = 15)"
      ]
    },
    {
      "cell_type": "code",
      "execution_count": 25,
      "metadata": {
        "id": "9QM6d-WSz_3B"
      },
      "outputs": [],
      "source": [
        "ephos = np.arange(1,100)"
      ]
    },
    {
      "cell_type": "code",
      "execution_count": 17,
      "metadata": {
        "colab": {
          "base_uri": "https://localhost:8080/"
        },
        "id": "aYSRrEpI4Bb8",
        "outputId": "fdf6aef2-7719-466f-c2a2-56283848d70e"
      },
      "outputs": [
        {
          "data": {
            "text/plain": [
              "array([ 1,  2,  3,  4,  5,  6,  7,  8,  9, 10, 11, 12, 13, 14, 15, 16, 17,\n",
              "       18, 19, 20, 21, 22, 23, 24, 25, 26, 27, 28, 29, 30, 31, 32, 33, 34,\n",
              "       35, 36, 37, 38, 39, 40, 41, 42, 43, 44, 45, 46, 47, 48, 49, 50, 51,\n",
              "       52, 53, 54, 55, 56, 57, 58, 59, 60, 61, 62, 63, 64, 65, 66, 67, 68,\n",
              "       69, 70, 71, 72, 73, 74, 75, 76, 77, 78, 79, 80, 81, 82, 83, 84, 85,\n",
              "       86, 87, 88, 89, 90, 91, 92, 93, 94, 95, 96, 97, 98, 99])"
            ]
          },
          "execution_count": 17,
          "metadata": {},
          "output_type": "execute_result"
        }
      ],
      "source": [
        "ephos"
      ]
    }
  ],
  "metadata": {
    "colab": {
      "provenance": []
    },
    "kernelspec": {
      "display_name": "Python 3",
      "name": "python3"
    },
    "language_info": {
      "codemirror_mode": {
        "name": "ipython",
        "version": 3
      },
      "file_extension": ".py",
      "mimetype": "text/x-python",
      "name": "python",
      "nbconvert_exporter": "python",
      "pygments_lexer": "ipython3",
      "version": "3.7.15"
    }
  },
  "nbformat": 4,
  "nbformat_minor": 0
}
